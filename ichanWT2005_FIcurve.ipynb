{
  "cells": [
    {
      "cell_type": "markdown",
      "metadata": {
        "id": "view-in-github",
        "colab_type": "text"
      },
      "source": [
        "<a href=\"https://colab.research.google.com/github/aryanlalwani/BIOL7409Final/blob/main/ichanWT2005_FIcurve.ipynb\" target=\"_parent\"><img src=\"https://colab.research.google.com/assets/colab-badge.svg\" alt=\"Open In Colab\"/></a>"
      ]
    },
    {
      "cell_type": "code",
      "source": [
        "!pip install NEURON"
      ],
      "metadata": {
        "colab": {
          "base_uri": "https://localhost:8080/"
        },
        "id": "U4gp_wTH-BcI",
        "outputId": "480ca306-995f-4260-f13f-799930432bf9"
      },
      "execution_count": 20,
      "outputs": [
        {
          "output_type": "stream",
          "name": "stdout",
          "text": [
            "Looking in indexes: https://pypi.org/simple, https://us-python.pkg.dev/colab-wheels/public/simple/\n",
            "Requirement already satisfied: NEURON in /usr/local/lib/python3.10/dist-packages (8.2.2)\n",
            "Requirement already satisfied: numpy>=1.9.3 in /usr/local/lib/python3.10/dist-packages (from NEURON) (1.22.4)\n"
          ]
        }
      ]
    },
    {
      "cell_type": "code",
      "execution_count": 21,
      "metadata": {
        "colab": {
          "base_uri": "https://localhost:8080/"
        },
        "id": "Kveh40JBCBKE",
        "outputId": "341061dd-2b23-40e5-f63e-80dc10dde354"
      },
      "outputs": [
        {
          "output_type": "stream",
          "name": "stdout",
          "text": [
            "/content/BIOL7409Final\n",
            "Mod files: \"mechanisms2/mechanisms2/cad.mod\" \"mechanisms2/mechanisms2/ca.mod\" \"mechanisms2/mechanisms2/gabaa.mod\" \"mechanisms2/mechanisms2/ichan_T875M.mod\" \"mechanisms2/mechanisms2/ichanWT2005.mod\" \"mechanisms2/mechanisms2/ichanWT.mod\" \"mechanisms2/mechanisms2/kca.mod\" \"mechanisms2/mechanisms2/km.mod\" \"mechanisms2/mechanisms2/kv.mod\" \"mechanisms2/mechanisms2/na12.mod\" \"mechanisms2/mechanisms2/na16.mod\" \"mechanisms2/mechanisms2/na.mod\" \"mechanisms2/mechanisms2/Nav11.mod\" \"mechanisms2/mechanisms2/Nav11_T875M.mod\"\n",
            "\n",
            " -> \u001b[32mCompiling\u001b[0m mod_func.cpp\n",
            " -> \u001b[32mCompiling\u001b[0m ichanWT.c\n",
            "\u001b[01m\u001b[KichanWT.c:\u001b[m\u001b[K In function ‘\u001b[01m\u001b[Krates__ichanWT\u001b[m\u001b[K’:\n",
            "\u001b[01m\u001b[KichanWT.c:176:15:\u001b[m\u001b[K \u001b[01;31m\u001b[Kerror: \u001b[m\u001b[Ktoo few arguments to function ‘\u001b[01m\u001b[Kvtrap_ichanWT\u001b[m\u001b[K’\n",
            "  176 | #define vtrap \u001b[01;31m\u001b[Kvtrap_ichanWT\u001b[m\u001b[K\n",
            "      |               \u001b[01;31m\u001b[K^~~~~~~~~~~~~\u001b[m\u001b[K\n",
            "\u001b[01m\u001b[KichanWT.c:373:23:\u001b[m\u001b[K \u001b[01;36m\u001b[Knote: \u001b[m\u001b[Kin expansion of macro ‘\u001b[01m\u001b[Kvtrap\u001b[m\u001b[K’\n",
            "  373 |    _lalpha = - 0.07 * \u001b[01;36m\u001b[Kvtrap\u001b[m\u001b[K ( _threadargscomma_ ( _lv - 47.0 ) / - 6.0 ) ;\n",
            "      |                       \u001b[01;36m\u001b[K^~~~~\u001b[m\u001b[K\n",
            "\u001b[01m\u001b[KichanWT.c:176:15:\u001b[m\u001b[K \u001b[01;36m\u001b[Knote: \u001b[m\u001b[Kdeclared here\n",
            "  176 | #define vtrap \u001b[01;36m\u001b[Kvtrap_ichanWT\u001b[m\u001b[K\n",
            "      |               \u001b[01;36m\u001b[K^~~~~~~~~~~~~\u001b[m\u001b[K\n",
            "\u001b[01m\u001b[KichanWT.c:177:16:\u001b[m\u001b[K \u001b[01;36m\u001b[Knote: \u001b[m\u001b[Kin expansion of macro ‘\u001b[01m\u001b[Kvtrap\u001b[m\u001b[K’\n",
            "  177 |  extern double \u001b[01;36m\u001b[Kvtrap\u001b[m\u001b[K( double , double );\n",
            "      |                \u001b[01;36m\u001b[K^~~~~\u001b[m\u001b[K\n",
            "make: *** [makemod2c_inc:47: ichanWT.o] Error 1\n",
            "make: *** Waiting for unfinished jobs....\n",
            "Traceback (most recent call last):\n",
            "  File \"/usr/local/bin/nrnivmodl\", line 94, in <module>\n",
            "    subprocess.check_call([exe, *sys.argv[1:]])\n",
            "  File \"/usr/lib/python3.10/subprocess.py\", line 369, in check_call\n",
            "    raise CalledProcessError(retcode, cmd)\n",
            "subprocess.CalledProcessError: Command '['/usr/local/lib/python3.10/dist-packages/neuron/.data/bin/nrnivmodl', 'mechanisms2']' returned non-zero exit status 2.\n"
          ]
        }
      ],
      "source": [
        "repo_name = 'BIOL7409Final'\n",
        "\n",
        "if 'google.colab' in str(get_ipython()): # Running on colab\n",
        "    import os        \n",
        "    # from distutils.dir_util import copy_tree\n",
        "    if not os.path.exists(repo_name):\n",
        "        !git clone https://github.com/aryanlalwani/{repo_name}.git # downloads repository into our Google colab session's file system        \n",
        "    \n",
        "    os.chdir('/content/' + repo_name)   \n",
        "!nrnivmodl mechanisms2"
      ]
    },
    {
      "cell_type": "code",
      "source": [
        "from neuron import h\n",
        "from neuron import gui\n",
        "from plotly.subplots import make_subplots\n",
        "import plotly.graph_objects as go\n",
        "import numpy as np\n",
        "import matplotlib.pyplot as plt"
      ],
      "metadata": {
        "id": "7jSBokit9cf-"
      },
      "execution_count": 22,
      "outputs": []
    },
    {
      "cell_type": "markdown",
      "metadata": {
        "id": "IhKYIE2iCBKO"
      },
      "source": [
        "Example of current injection in single compartment cell with Mainen delayed rectifier potassium current. Note units are different for kv and nav11. Kv uses pS/µm2 and Nav1.1 uses S/cm2 (1 S/cm^2 = 10,000 pS/µm2)."
      ]
    },
    {
      "cell_type": "code",
      "execution_count": 19,
      "metadata": {
        "id": "4bF37z_XCBKQ",
        "colab": {
          "base_uri": "https://localhost:8080/",
          "height": 242
        },
        "outputId": "451ed0c3-92f5-4fc3-906a-707d7d3b3975"
      },
      "outputs": [
        {
          "output_type": "error",
          "ename": "ValueError",
          "evalue": "ignored",
          "traceback": [
            "\u001b[0;31m---------------------------------------------------------------------------\u001b[0m",
            "\u001b[0;31mValueError\u001b[0m                                Traceback (most recent call last)",
            "\u001b[0;32m<ipython-input-19-ec48da8e6475>\u001b[0m in \u001b[0;36m<cell line: 7>\u001b[0;34m()\u001b[0m\n\u001b[1;32m      5\u001b[0m \u001b[0;34m\u001b[0m\u001b[0m\n\u001b[1;32m      6\u001b[0m \u001b[0;31m# Biophysics\u001b[0m\u001b[0;34m\u001b[0m\u001b[0;34m\u001b[0m\u001b[0m\n\u001b[0;32m----> 7\u001b[0;31m \u001b[0msoma\u001b[0m\u001b[0;34m.\u001b[0m\u001b[0minsert\u001b[0m\u001b[0;34m(\u001b[0m\u001b[0;34m\"ichanWT.mod\"\u001b[0m\u001b[0;34m)\u001b[0m\u001b[0;34m\u001b[0m\u001b[0;34m\u001b[0m\u001b[0m\n\u001b[0m\u001b[1;32m      8\u001b[0m \u001b[0msoma\u001b[0m\u001b[0;34m.\u001b[0m\u001b[0menat\u001b[0m \u001b[0;34m=\u001b[0m \u001b[0;36m50\u001b[0m\u001b[0;34m\u001b[0m\u001b[0;34m\u001b[0m\u001b[0m\n\u001b[1;32m      9\u001b[0m \u001b[0msoma\u001b[0m\u001b[0;34m.\u001b[0m\u001b[0mekf\u001b[0m \u001b[0;34m=\u001b[0m \u001b[0;34m-\u001b[0m\u001b[0;36m80\u001b[0m\u001b[0;34m\u001b[0m\u001b[0;34m\u001b[0m\u001b[0m\n",
            "\u001b[0;31mValueError\u001b[0m: argument not a density mechanism name."
          ]
        }
      ],
      "source": [
        "soma = h.Section(name='soma')\n",
        "soma.diam = 25\n",
        "soma.L = 25\n",
        "soma.nseg = 1\n",
        "\n",
        "# Biophysics\n",
        "soma.insert(\"ichanWT.mod\")\n",
        "soma.enat = 50\n",
        "soma.ekf = -80\n",
        "soma.gnatbar_ichanWT2005 = 0.2\n",
        "soma.gkfbar_ichanWT2005 = 0.16\n",
        "soma.gl_ichanWT2005 = 0.0005\n",
        "soma.el_ichanWT2005 = -60\n",
        "\n",
        "# soma.cm = 1\n",
        "# soma.insert('pas')\n",
        "# soma.insert('extracellular')\n",
        "# soma.g_pas = 5e-4\n",
        "# soma.e_pas = -60\n",
        "# soma.insert('nav11')\n",
        "# soma.gbar_nav11 = 0.2\n",
        "\n",
        "# soma.insert('kv')\n",
        "# soma.gbar_kv = 150\n",
        "# soma.ena = 50\n",
        "# soma.ek = -80\n",
        "\n",
        "ic = h.IClamp(soma(0.5))\n",
        "ic.delay = 50\n",
        "ic.dur = 200\n",
        "ic.amp = 0.1\n",
        "\n",
        "h.v_init = -61 # mV - initial voltage of the model system \n",
        "h.dt = 0.005  # ms - time step\n",
        "h.celsius = 21 # degrees celsius - temperature of simulation, set to room temperature\n",
        "h.tstop = 250\n",
        "\n",
        "# sTau_vec = h.Vector().record(soma(0.5)._ref_sTau_nav11)\n",
        "# hTau_vec = h.Vector().record(soma(0.5)._ref_hTau_nav11)\n",
        "\n",
        "netcon = h.NetCon(soma(0.5)._ref_v,None, sec=soma) # Use NetCon to monitor axon voltage \n",
        "netcon.threshold = 0 # set threshold to detect AP\n",
        "# Record spike times\n",
        "spike_times = h.Vector()\n",
        "netcon.record(spike_times) # pass the spiketimes vector to the record method of the netcon object we just created\n",
        "\n",
        "amp_vec = np.linspace(0.1, 0.4, 100) # create vector here\n",
        "\n",
        "F_vec1 = []\n",
        "for amp in amp_vec:\n",
        "    ic.amp = amp # nA\n",
        "    # Run\n",
        "    h.run()\n",
        "    Fi = len(spike_times)/(ic.dur*1e-3) # number of spikes divided by length of simulation in sec\n",
        "    F_vec1.append(Fi)  \n",
        "\n",
        "# Plotting code goes here\n",
        "fig = plt.figure()\n",
        "ax = fig.add_subplot(111)\n",
        "ax.plot(amp_vec, F_vec1)\n",
        "ax.set_ylabel('Frequency')\n",
        "ax.set_xlabel('Current Amplitude')\n",
        "\n",
        "ic.amp = 0.1\n"
      ]
    },
    {
      "cell_type": "code",
      "execution_count": null,
      "metadata": {
        "id": "rHruDV-6CBKR"
      },
      "outputs": [],
      "source": [
        "h.celsius = 21\n",
        "ic.amp = 0.4\n",
        "h.run()\n",
        "\n",
        "fig = make_subplots(specs=[[{\"secondary_y\": True}]])\n",
        "fig.add_trace(go.Scatter(x=t,y=V,name='Vm',line=dict(color='rgb(0,0,0)')),secondary_y = False)\n",
        "\n",
        "fig.add_trace(go.Scatter(x=t,y=m_vec,name='m'),secondary_y = True)\n",
        "fig.add_trace(go.Scatter(x=t,y=h_vec,name='h'),secondary_y = True)\n",
        "fig.add_trace(go.Scatter(x=t,y=s_vec,name='s'),secondary_y = True)\n",
        "fig.add_trace(go.Scatter(x=t,y=sTau_vec/sTau_vec.max(),name='sTau'),secondary_y = True)\n",
        "# fig.add_trace(go.Scatter(x=t,y=hTau_vec/hTau_vec.max(),name='hTau'),secondary_y = True)\n",
        "fig.update_layout(yaxis = dict(range=[-80,50]))\n"
      ]
    },
    {
      "cell_type": "markdown",
      "metadata": {
        "id": "6ifyA2EkCBKS"
      },
      "source": [
        "Example code to insert the ichanWT2005.mod mechanism that includes their implementation of Nav1.1, with a leak and delayed rectifier (commented, in case you want to use it, replace the code above inserting the nav11, kv, and pas mechanisms with this one)"
      ]
    },
    {
      "cell_type": "code",
      "execution_count": null,
      "metadata": {
        "id": "lytJpmmrCBKS"
      },
      "outputs": [],
      "source": [
        "soma.insert('ichanWT2005')\n",
        "soma.enat = 50\n",
        "soma.ekf = -80\n",
        "soma.gnatbar_ichanWT2005 = 0.2\n",
        "soma.gkfbar_ichanWT2005  = 0.06\n",
        "soma.gl_ichanWT2005 = 0.0005\n",
        "soma.el_ichanWT2005 = -60"
      ]
    }
  ],
  "metadata": {
    "colab": {
      "provenance": [],
      "include_colab_link": true
    },
    "kernelspec": {
      "display_name": "Python 3",
      "name": "python3"
    },
    "language_info": {
      "codemirror_mode": {
        "name": "ipython",
        "version": 3
      },
      "file_extension": ".py",
      "mimetype": "text/x-python",
      "name": "python",
      "nbconvert_exporter": "python",
      "pygments_lexer": "ipython3",
      "version": "3.9.16"
    }
  },
  "nbformat": 4,
  "nbformat_minor": 0
}