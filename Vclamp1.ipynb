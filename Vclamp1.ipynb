{
  "cells": [
    {
      "cell_type": "markdown",
      "metadata": {
        "id": "view-in-github",
        "colab_type": "text"
      },
      "source": [
        "<a href=\"https://colab.research.google.com/github/aryanlalwani/BIOL7409Final/blob/main/Vclamp1.ipynb\" target=\"_parent\"><img src=\"https://colab.research.google.com/assets/colab-badge.svg\" alt=\"Open In Colab\"/></a>"
      ]
    },
    {
      "cell_type": "code",
      "source": [
        "!pip install NEURON"
      ],
      "metadata": {
        "id": "U4gp_wTH-BcI",
        "outputId": "d6af8cc9-418d-4d29-c665-3a683a0086de",
        "colab": {
          "base_uri": "https://localhost:8080/"
        }
      },
      "execution_count": 1,
      "outputs": [
        {
          "output_type": "stream",
          "name": "stdout",
          "text": [
            "Looking in indexes: https://pypi.org/simple, https://us-python.pkg.dev/colab-wheels/public/simple/\n",
            "Collecting NEURON\n",
            "  Downloading NEURON-8.2.2-cp310-cp310-manylinux_2_17_x86_64.manylinux2014_x86_64.whl (14.9 MB)\n",
            "\u001b[2K     \u001b[90m━━━━━━━━━━━━━━━━━━━━━━━━━━━━━━━━━━━━━━━━\u001b[0m \u001b[32m14.9/14.9 MB\u001b[0m \u001b[31m47.7 MB/s\u001b[0m eta \u001b[36m0:00:00\u001b[0m\n",
            "\u001b[?25hRequirement already satisfied: numpy>=1.9.3 in /usr/local/lib/python3.10/dist-packages (from NEURON) (1.22.4)\n",
            "Installing collected packages: NEURON\n",
            "Successfully installed NEURON-8.2.2\n"
          ]
        }
      ]
    },
    {
      "cell_type": "code",
      "execution_count": 2,
      "metadata": {
        "colab": {
          "base_uri": "https://localhost:8080/"
        },
        "id": "Kveh40JBCBKE",
        "outputId": "d24e75d0-fb57-4371-e950-8b5fdbafcfe3"
      },
      "outputs": [
        {
          "output_type": "stream",
          "name": "stdout",
          "text": [
            "Cloning into 'BIOL7409Final'...\n",
            "remote: Enumerating objects: 57, done.\u001b[K\n",
            "remote: Counting objects: 100% (3/3), done.\u001b[K\n",
            "remote: Compressing objects: 100% (3/3), done.\u001b[K\n",
            "remote: Total 57 (delta 0), reused 0 (delta 0), pack-reused 54\u001b[K\n",
            "Unpacking objects: 100% (57/57), 148.81 KiB | 901.00 KiB/s, done.\n",
            "/content/BIOL7409Final\n",
            "Mod files: \"mechanisms2/mechanisms2/cad.mod\" \"mechanisms2/mechanisms2/ca.mod\" \"mechanisms2/mechanisms2/gabaa.mod\" \"mechanisms2/mechanisms2/ichanWT2005.mod\" \"mechanisms2/mechanisms2/kca.mod\" \"mechanisms2/mechanisms2/km.mod\" \"mechanisms2/mechanisms2/kv.mod\" \"mechanisms2/mechanisms2/na12.mod\" \"mechanisms2/mechanisms2/na16.mod\" \"mechanisms2/mechanisms2/na.mod\" \"mechanisms2/mechanisms2/Nav11.mod\"\n",
            "\n",
            "Creating 'x86_64' directory for .o files.\n",
            "\n",
            " -> \u001b[32mCompiling\u001b[0m mod_func.cpp\n",
            " -> \u001b[32mNMODL\u001b[0m ../mechanisms2/cad.mod\n",
            " -> \u001b[32mNMODL\u001b[0m ../mechanisms2/ca.mod\n",
            " -> \u001b[32mNMODL\u001b[0m ../mechanisms2/gabaa.mod\n",
            "Translating cad.mod into /content/BIOL7409Final/x86_64/cad.c\n",
            "Thread Safe\n",
            " -> \u001b[32mNMODL\u001b[0m ../mechanisms2/ichanWT2005.mod\n",
            "Translating ca.mod into /content/BIOL7409Final/x86_64/ca.c\n",
            "Translating gabaa.mod into /content/BIOL7409Final/x86_64/gabaa.c\n",
            "Notice: VERBATIM blocks are not thread safe\n",
            "Notice: This mechanism cannot be used with CVODE\n",
            "Notice: VERBATIM blocks are not thread safe\n",
            "Notice: This mechanism cannot be used with CVODE\n",
            "Notice: Assignment to the GLOBAL variable, \"Rtau\", is not thread safe\n",
            "Notice: Assignment to the GLOBAL variable, \"Rinf\", is not thread safe\n",
            "Notice: Assignment to the GLOBAL variable, \"tadj\", is not thread safe\n",
            " -> \u001b[32mNMODL\u001b[0m ../mechanisms2/kca.mod\n",
            "Translating ichanWT2005.mod into /content/BIOL7409Final/x86_64/ichanWT2005.c\n",
            "Notice: VERBATIM blocks are not thread safe\n",
            "Notice: This mechanism cannot be used with CVODE\n",
            "Warning: Default 6.3 of PARAMETER celsius will be ignored and set by NEURON.\n",
            " -> \u001b[32mNMODL\u001b[0m ../mechanisms2/km.mod\n",
            "Translating kca.mod into /content/BIOL7409Final/x86_64/kca.c\n",
            "Notice: VERBATIM blocks are not thread safe\n",
            "Notice: This mechanism cannot be used with CVODE\n",
            "Notice: Assignment to the GLOBAL variable, \"tadj\", is not thread safe\n",
            " -> \u001b[32mNMODL\u001b[0m ../mechanisms2/kv.mod\n",
            "Translating km.mod into /content/BIOL7409Final/x86_64/km.c\n",
            "Notice: VERBATIM blocks are not thread safe\n",
            "Notice: This mechanism cannot be used with CVODE\n",
            "Notice: Assignment to the GLOBAL variable, \"tadj\", is not thread safe\n",
            " -> \u001b[32mNMODL\u001b[0m ../mechanisms2/na12.mod\n",
            "Translating kv.mod into /content/BIOL7409Final/x86_64/kv.c\n",
            " -> \u001b[32mNMODL\u001b[0m ../mechanisms2/na16.mod\n",
            "Notice: VERBATIM blocks are not thread safe\n",
            "Notice: This mechanism cannot be used with CVODE\n",
            "Notice: Assignment to the GLOBAL variable, \"tadj\", is not thread safe\n",
            "Translating na12.mod into /content/BIOL7409Final/x86_64/na12.c\n",
            " -> \u001b[32mNMODL\u001b[0m ../mechanisms2/na.mod\n",
            "Notice: VERBATIM blocks are not thread safe\n",
            "Notice: This mechanism cannot be used with CVODE\n",
            "Notice: Assignment to the GLOBAL variable, \"tadj\", is not thread safe\n",
            "Translating na16.mod into /content/BIOL7409Final/x86_64/na16.c\n",
            "Notice: VERBATIM blocks are not thread safe\n",
            "Notice: This mechanism cannot be used with CVODE\n",
            "Notice: Assignment to the GLOBAL variable, \"tadj\", is not thread safe\n",
            " -> \u001b[32mNMODL\u001b[0m ../mechanisms2/Nav11.mod\n",
            "Translating na.mod into /content/BIOL7409Final/x86_64/na.c\n",
            " -> \u001b[32mCompiling\u001b[0m cad.c\n",
            "Thread Safe\n",
            "Translating Nav11.mod into /content/BIOL7409Final/x86_64/Nav11.c\n",
            " -> \u001b[32mCompiling\u001b[0m ca.c\n",
            "Thread Safe\n",
            " -> \u001b[32mCompiling\u001b[0m gabaa.c\n",
            " -> \u001b[32mCompiling\u001b[0m ichanWT2005.c\n",
            " -> \u001b[32mCompiling\u001b[0m kca.c\n",
            " -> \u001b[32mCompiling\u001b[0m km.c\n",
            " -> \u001b[32mCompiling\u001b[0m kv.c\n",
            " -> \u001b[32mCompiling\u001b[0m na12.c\n",
            " -> \u001b[32mCompiling\u001b[0m na16.c\n",
            " -> \u001b[32mCompiling\u001b[0m na.c\n",
            " -> \u001b[32mCompiling\u001b[0m Nav11.c\n",
            " => \u001b[32mLINKING\u001b[0m shared library ./libnrnmech.so\n",
            " => \u001b[32mLINKING\u001b[0m executable ./special LDFLAGS are:    -pthread\n",
            "Successfully created x86_64/special\n"
          ]
        }
      ],
      "source": [
        "repo_name = 'BIOL7409Final'\n",
        "\n",
        "if 'google.colab' in str(get_ipython()): # Running on colab\n",
        "    import os        \n",
        "    # from distutils.dir_util import copy_tree\n",
        "    if not os.path.exists(repo_name):\n",
        "        !git clone https://github.com/aryanlalwani/{repo_name}.git # downloads repository into our Google colab session's file system        \n",
        "    \n",
        "    os.chdir('/content/' + repo_name)   \n",
        "!nrnivmodl mechanisms2"
      ]
    },
    {
      "cell_type": "code",
      "source": [
        "from neuron import h\n",
        "from neuron import gui\n",
        "from plotly.subplots import make_subplots\n",
        "import plotly.graph_objects as go\n",
        "import numpy as np\n",
        "import matplotlib.pyplot as plt"
      ],
      "metadata": {
        "id": "7jSBokit9cf-"
      },
      "execution_count": 3,
      "outputs": []
    },
    {
      "cell_type": "code",
      "execution_count": 4,
      "metadata": {
        "id": "h7fwg1OBCBKG"
      },
      "outputs": [],
      "source": [
        "# Geometry\n",
        "soma = h.Section(name='soma')\n",
        "soma.diam = 20\n",
        "soma.L = 10\n",
        "soma.nseg = 1\n",
        "\n",
        "# Biophysics\n",
        "soma.insert('pas')\n",
        "soma.insert('extracellular')\n",
        "soma.g_pas = 3e-5\n",
        "soma.e_pas = -60\n",
        "soma.insert('nav11')\n",
        "soma.gbar_nav11 = 0.2\n",
        "\n",
        "\n",
        "# Add voltage clamp\n",
        "vclamp = h.SEClamp(soma(0.5)) # add voltage clamp to the middle of our secion (x=0.5)\n",
        "vclamp.dur1 = 2 # ms - duration of initial clamp voltage\n",
        "vclamp.amp1 = -70 # mV - initial clamp voltage\n",
        "vclamp.dur2 = 20 # ms - duration of second clamp voltage\n",
        "vclamp.amp2 = 0 # mV - second clamp voltage\n",
        "vclamp.dur3 = 5 # ms - duration of final clamp voltage\n",
        "vclamp.amp3 = vclamp.amp1 # ms - amplitude of final clamp voltage (return to start)\n",
        "vclamp.rs = 1e-3\n",
        "\n",
        "t = h.Vector().record(h._ref_t) # time vector\n",
        "V = h.Vector().record(soma(0.5)._ref_v) # intracellular voltage (same as membrane potential in our case)\n",
        "I = h.Vector().record(vclamp._ref_i) # voltage clamp current (equal to membrane current)\n",
        "Im = h.Vector().record(soma(0.5)._ref_i_membrane)\n",
        "Vc = h.Vector().record(vclamp._ref_vc)\n",
        "Ina = h.Vector().record(soma(0.5)._ref_ina_nav11)\n",
        "m_vec = h.Vector().record(soma(0.5)._ref_m_nav11)\n",
        "h_vec = h.Vector().record(soma(0.5)._ref_h_nav11)\n",
        "s_vec = h.Vector().record(soma(0.5)._ref_s_nav11)"
      ]
    },
    {
      "cell_type": "markdown",
      "metadata": {
        "id": "f8pCDvrICBKH"
      },
      "source": [
        "Define plotting function"
      ]
    },
    {
      "cell_type": "code",
      "execution_count": null,
      "metadata": {
        "id": "XLwkmiEqCBKK"
      },
      "outputs": [],
      "source": [
        "def run_and_plot_Vclamp_sim1(t,v,i,vc,axon):\n",
        "    # t - time Vector (NEURON object) (ms)\n",
        "    # v - voltage Vector (mV)\n",
        "    # i - current Vector (nA)\n",
        "    # vc - voltage clamp vector (mV)\n",
        "    # axon - NEURON Section of our axon model\n",
        "    # Run single voltage clamp simulation and plot\n",
        "    h.run()\n",
        "    t = t.to_python(np.zeros(len(t)))  # convert to numpy arrays (not actually necessary for plotting)\n",
        "    v = v.to_python(np.zeros(len(v)))\n",
        "    i = 1e-6*i.to_python(np.zeros(len(i)))/(axon(0.5).area()*1e-8) # converts to current density in mA/cm2        \n",
        "    # Plot results\n",
        "    fig = make_subplots(rows=3,cols=1)    \n",
        "    # voltage\n",
        "    fig.add_trace(go.Scatter(x=t,y=v),row=1,col=1)     \n",
        "    fig['layout']['yaxis']['title']='Vm (mV)'\n",
        "    fig.update_layout(yaxis = dict(range=[-80,50]))\n",
        "    # Current injected (converted to membrane current density)\n",
        "    fig.add_trace(go.Scatter(x=t,y=i),row=2,col=1)    \n",
        "    fig['layout']['yaxis2']['title']='Current density (mA/cm2)'    \n",
        "    # Clamp voltage\n",
        "    fig.add_trace(go.Scatter(x=t,y=vc),row=3,col=1) \n",
        "    fig['layout']['yaxis3']['title']='Vc (mV)'\n",
        "    fig['layout']['yaxis3']['title']='Vm (mV)'\n",
        "    fig['layout']['xaxis3']['title']='time (ms)'        \n",
        "    fig.show()"
      ]
    },
    {
      "cell_type": "markdown",
      "metadata": {
        "id": "xmy_8OUUCBKL"
      },
      "source": [
        "Run and plot"
      ]
    },
    {
      "cell_type": "code",
      "execution_count": null,
      "metadata": {
        "id": "m7AV8OGOCBKM"
      },
      "outputs": [],
      "source": [
        "vclamp.amp2 = 0 # mV - second clamp voltage\n",
        "h.v_init = vclamp.amp1 # mV - initial voltage of the model system \n",
        "h.dt = 0.0125  # ms - time step\n",
        "h.celsius = 21 # degrees celsius - temperature of simulation, set to room temperature\n",
        "h.tstop = vclamp.dur1 + vclamp.dur2 + vclamp.dur3\n",
        "run_and_plot_Vclamp_sim1(t,V,Ina,Vc,soma)"
      ]
    },
    {
      "cell_type": "markdown",
      "metadata": {
        "id": "5yNGd4igCBKN"
      },
      "source": [
        "Example of plotting m infinity curve"
      ]
    },
    {
      "cell_type": "code",
      "execution_count": null,
      "metadata": {
        "id": "UKMowBzqCBKN"
      },
      "outputs": [],
      "source": [
        "vtha = -21.2\n",
        "qa = 4.9\n",
        "v = np.linspace(-80,20,1000)\n",
        "mInf = 1/(1 + np.exp(-((v) - vtha)/qa))\n",
        "\n",
        "fig = plt.figure()\n",
        "ax = fig.add_subplot(111)\n",
        "ax.plot(v,mInf)"
      ]
    },
    {
      "cell_type": "markdown",
      "metadata": {
        "id": "IhKYIE2iCBKO"
      },
      "source": [
        "Example of current injection in single compartment cell with Mainen delayed rectifier potassium current. Note units are different for kv and nav11. Kv uses pS/µm2 and Nav1.1 uses S/cm2 (1 S/cm^2 = 10,000 pS/µm2)."
      ]
    },
    {
      "cell_type": "code",
      "execution_count": null,
      "metadata": {
        "id": "4bF37z_XCBKQ"
      },
      "outputs": [],
      "source": [
        "soma = h.Section(name='soma')\n",
        "soma.diam = 25\n",
        "soma.L = 25\n",
        "soma.nseg = 1\n",
        "\n",
        "# Biophysics\n",
        "soma.cm = 1\n",
        "soma.insert('pas')\n",
        "soma.insert('extracellular')\n",
        "soma.g_pas = 5e-4\n",
        "soma.e_pas = -60\n",
        "soma.insert('nav11')\n",
        "soma.gbar_nav11 = 0.2\n",
        "\n",
        "soma.insert('kv')\n",
        "soma.gbar_kv = 150\n",
        "soma.ena = 50\n",
        "soma.ek = -80\n",
        "\n",
        "\n",
        "ic = h.IClamp(soma(0.5))\n",
        "ic.delay = 50\n",
        "ic.dur = 200\n",
        "ic.amp = 0.1\n",
        "\n",
        "h.v_init = -61 # mV - initial voltage of the model system \n",
        "h.dt = 0.005  # ms - time step\n",
        "h.celsius = 21 # degrees celsius - temperature of simulation, set to room temperature\n",
        "h.tstop = 250\n",
        "\n",
        "t = h.Vector().record(h._ref_t) # time vector\n",
        "V = h.Vector().record(soma(0.5)._ref_v) # intracellular voltage (same as membrane potential in our case)\n",
        "Im = h.Vector().record(soma(0.5)._ref_i_membrane)\n",
        "Ina = h.Vector().record(soma(0.5)._ref_ina_nav11)\n",
        "m_vec = h.Vector().record(soma(0.5)._ref_m_nav11)\n",
        "h_vec = h.Vector().record(soma(0.5)._ref_h_nav11)\n",
        "s_vec = h.Vector().record(soma(0.5)._ref_s_nav11)\n",
        "sTau_vec = h.Vector().record(soma(0.5)._ref_sTau_nav11)\n",
        "hTau_vec = h.Vector().record(soma(0.5)._ref_hTau_nav11)\n"
      ]
    },
    {
      "cell_type": "code",
      "execution_count": null,
      "metadata": {
        "id": "rHruDV-6CBKR"
      },
      "outputs": [],
      "source": [
        "h.celsius = 21\n",
        "ic.amp = 0.4\n",
        "h.run()\n",
        "\n",
        "fig = make_subplots(specs=[[{\"secondary_y\": True}]])\n",
        "fig.add_trace(go.Scatter(x=t,y=V,name='Vm',line=dict(color='rgb(0,0,0)')),secondary_y = False)\n",
        "\n",
        "fig.add_trace(go.Scatter(x=t,y=m_vec,name='m'),secondary_y = True)\n",
        "fig.add_trace(go.Scatter(x=t,y=h_vec,name='h'),secondary_y = True)\n",
        "fig.add_trace(go.Scatter(x=t,y=s_vec,name='s'),secondary_y = True)\n",
        "fig.add_trace(go.Scatter(x=t,y=sTau_vec/sTau_vec.max(),name='sTau'),secondary_y = True)\n",
        "# fig.add_trace(go.Scatter(x=t,y=hTau_vec/hTau_vec.max(),name='hTau'),secondary_y = True)\n",
        "fig.update_layout(yaxis = dict(range=[-80,50]))\n"
      ]
    },
    {
      "cell_type": "markdown",
      "metadata": {
        "id": "6ifyA2EkCBKS"
      },
      "source": [
        "Example code to insert the ichanWT2005.mod mechanism that includes their implementation of Nav1.1, with a leak and delayed rectifier (commented, in case you want to use it, replace the code above inserting the nav11, kv, and pas mechanisms with this one)"
      ]
    },
    {
      "cell_type": "code",
      "execution_count": null,
      "metadata": {
        "id": "lytJpmmrCBKS"
      },
      "outputs": [],
      "source": [
        "# soma.insert('ichanWT2005')\n",
        "# soma.enat = 50\n",
        "# soma.ekf = -80\n",
        "# soma.gnatbar_ichanWT2005 = 0.2\n",
        "# soma.gkfbar_ichanWT2005  = 0.06\n",
        "# soma.gl_ichanWT2005 = 0.0005\n",
        "# soma.el_ichanWT2005 = -60"
      ]
    }
  ],
  "metadata": {
    "colab": {
      "provenance": [],
      "include_colab_link": true
    },
    "kernelspec": {
      "display_name": "Python 3",
      "name": "python3"
    },
    "language_info": {
      "codemirror_mode": {
        "name": "ipython",
        "version": 3
      },
      "file_extension": ".py",
      "mimetype": "text/x-python",
      "name": "python",
      "nbconvert_exporter": "python",
      "pygments_lexer": "ipython3",
      "version": "3.9.16"
    }
  },
  "nbformat": 4,
  "nbformat_minor": 0
}